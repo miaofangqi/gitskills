{
 "cells": [
  {
   "cell_type": "code",
   "execution_count": 1,
   "id": "2dfebdad",
   "metadata": {},
   "outputs": [],
   "source": [
    "import numpy as np\n",
    "from sklearn.datasets import load_digits\n",
    "from sklearn.preprocessing import LabelBinarizer #标签二值化\n",
    "from sklearn.model_selection import train_test_split   #切割数据,交叉验证法"
   ]
  },
  {
   "cell_type": "code",
   "execution_count": 2,
   "id": "0d795b88",
   "metadata": {},
   "outputs": [],
   "source": [
    "#定义激活函数\n",
    "def sigmoid(x):\n",
    "    return 1/(1+np.exp(-x))"
   ]
  },
  {
   "cell_type": "code",
   "execution_count": 3,
   "id": "b45ea655",
   "metadata": {},
   "outputs": [],
   "source": [
    "#定义激活函数\n",
    "def dsigmoid(x):\n",
    "    return x*(1-x)"
   ]
  },
  {
   "cell_type": "code",
   "execution_count": 4,
   "id": "fc01dee4",
   "metadata": {},
   "outputs": [],
   "source": [
    "#网络构建\n",
    "class NeuralNetwork:\n",
    "    def __init__(self,layers):#(64,100,10)\n",
    "        #权重的初始化,范围-1到1：+1的一列是偏置值\n",
    "        self.V = np.random.random((layers[0] + 1, layers[1]+1))*2 - 1\n",
    "        self.W = np.random.random((layers[1] + 1, layers[2])) * 2 - 1\n",
    "\n",
    "    def train(self,X,y,lr=0.11,epochs=10000):\n",
    "        #添加偏置值：最后一列全是1\n",
    "        temp = np.ones([X.shape[0],X.shape[1]+1])\n",
    "        temp[:,0:-1] = X\n",
    "        X = temp\n",
    "\n",
    "        for n in range(epochs+1):\n",
    "            #在训练集中随机选取一行(一个数据)：randint()在范围内随机生成一个int类型\n",
    "            i = np.random.randint(X.shape[0])\n",
    "            x = [X[i]]\n",
    "            #转为二维数据：由一维一行转为二维一行\n",
    "            x = np.atleast_2d(x)\n",
    "\n",
    "            # L1：输入层传递给隐藏层的值；输入层64个节点，隐藏层100个节点\n",
    "            # L2：隐藏层传递到输出层的值；输出层10个节点\n",
    "            L1 = sigmoid(np.dot(x, self.V))\n",
    "            L2 = sigmoid(np.dot(L1, self.W))\n",
    "\n",
    "            # L2_delta：输出层对隐藏层的误差改变量\n",
    "            # L1_delta：隐藏层对输入层的误差改变量\n",
    "            L2_delta = (y[i] - L2) * dsigmoid(L2)\n",
    "            L1_delta = L2_delta.dot(self.W.T) * dsigmoid(L1)\n",
    "\n",
    "            # 计算改变后的新权重\n",
    "            self.W += lr * L1.T.dot(L2_delta)\n",
    "            self.V += lr * x.T.dot(L1_delta)\n",
    "\n",
    "            #每训练1000次输出一次准确率\n",
    "            if n%1000 == 0:\n",
    "                predictions = []\n",
    "                for j in range(X_test.shape[0]):\n",
    "                    #获取预测结果：返回与十个标签值逼近的距离，数值最大的选为本次的预测值\n",
    "                    o = self.predict(X_test[j])\n",
    "                    #将最大的数值所对应的标签返回\n",
    "                    predictions.append(np.argmax(o))\n",
    "                #np.equal()：相同返回true，不同返回false\n",
    "                accuracy = np.mean(np.equal(predictions,y_test))\n",
    "                print('迭代次数：',n,'准确率：',accuracy)\n",
    "\n",
    "    def predict(self,x):\n",
    "        # 添加偏置值：最后一列全是1\n",
    "        temp = np.ones([x.shape[0] + 1])\n",
    "        temp[0:-1] = x\n",
    "        x = temp\n",
    "        # 转为二维数据：由一维一行转为二维一行\n",
    "        x = np.atleast_2d(x)\n",
    "\n",
    "        # L1：输入层传递给隐藏层的值；输入层64个节点，隐藏层100个节点\n",
    "        # L2：隐藏层传递到输出层的值；输出层10个节点\n",
    "        L1 = sigmoid(np.dot(x, self.V))\n",
    "        L2 = sigmoid(np.dot(L1, self.W))\n",
    "        return L2"
   ]
  },
  {
   "cell_type": "code",
   "execution_count": 5,
   "id": "ebfa05b6",
   "metadata": {},
   "outputs": [],
   "source": [
    "#载入数据:8*8的数据集\n",
    "digits = load_digits()\n",
    "X = digits.data\n",
    "Y = digits.target"
   ]
  },
  {
   "cell_type": "code",
   "execution_count": 6,
   "id": "612ea6ca",
   "metadata": {},
   "outputs": [],
   "source": [
    "#输入数据归一化\n",
    "X -= X.min()\n",
    "X /= X.max()\n",
    "#数据为什么要归一化处理？\n",
    "#当数据集的数值过大，即便乘以较小的权重后仍然还是一个很大的数时，当代入sigmoid激活函数中，激活函数的输出就趋近于1，\n",
    "#不利于学习怎么操作使数据归一化？原始数据集中每一个数据先减去最小的那个数，将得到的新数据集再除以最大的那个数既可"
   ]
  },
  {
   "cell_type": "code",
   "execution_count": 7,
   "id": "10f93814",
   "metadata": {},
   "outputs": [],
   "source": [
    "#网络生成\n",
    "NN = NeuralNetwork([64,100,10])"
   ]
  },
  {
   "cell_type": "code",
   "execution_count": 8,
   "id": "12fec5ca",
   "metadata": {},
   "outputs": [],
   "source": [
    "#sklearn切分数据\n",
    "X_train,X_test,y_train,y_test = train_test_split(X,Y)\n",
    "#标签二值化：将原始标签(十进制)转为新标签(二进制)\n",
    "labels_train = LabelBinarizer().fit_transform(y_train)\n",
    "labels_test = LabelBinarizer().fit_transform(y_test)"
   ]
  },
  {
   "cell_type": "code",
   "execution_count": 9,
   "id": "ba7cd3c1",
   "metadata": {},
   "outputs": [
    {
     "name": "stdout",
     "output_type": "stream",
     "text": [
      "开始训练\n",
      "迭代次数： 0 准确率： 0.09555555555555556\n",
      "迭代次数： 1000 准确率： 0.5288888888888889\n",
      "迭代次数： 2000 准确率： 0.7888888888888889\n",
      "迭代次数： 3000 准确率： 0.8711111111111111\n",
      "迭代次数： 4000 准确率： 0.9044444444444445\n",
      "迭代次数： 5000 准确率： 0.9066666666666666\n",
      "迭代次数： 6000 准确率： 0.9244444444444444\n",
      "迭代次数： 7000 准确率： 0.9377777777777778\n",
      "迭代次数： 8000 准确率： 0.9311111111111111\n",
      "迭代次数： 9000 准确率： 0.9466666666666667\n",
      "迭代次数： 10000 准确率： 0.9422222222222222\n",
      "迭代次数： 11000 准确率： 0.9466666666666667\n",
      "迭代次数： 12000 准确率： 0.9555555555555556\n",
      "迭代次数： 13000 准确率： 0.9488888888888889\n",
      "迭代次数： 14000 准确率： 0.9466666666666667\n",
      "迭代次数： 15000 准确率： 0.96\n",
      "迭代次数： 16000 准确率： 0.9444444444444444\n",
      "迭代次数： 17000 准确率： 0.9511111111111111\n",
      "迭代次数： 18000 准确率： 0.9466666666666667\n",
      "迭代次数： 19000 准确率： 0.9555555555555556\n",
      "迭代次数： 20000 准确率： 0.9644444444444444\n",
      "训练结束\n"
     ]
    }
   ],
   "source": [
    "#网络训练\n",
    "print('开始训练')\n",
    "NN.train(X_train,labels_train,epochs=20000)\n",
    "print('训练结束')"
   ]
  },
  {
   "cell_type": "code",
   "execution_count": 10,
   "id": "777199f1",
   "metadata": {},
   "outputs": [
    {
     "name": "stdout",
     "output_type": "stream",
     "text": [
      "(1797, 64)\n"
     ]
    },
    {
     "data": {
      "text/plain": [
       "<Figure size 432x288 with 0 Axes>"
      ]
     },
     "metadata": {},
     "output_type": "display_data"
    },
    {
     "data": {
      "image/png": "[encoded data removed]",
      "text/plain": [
       "<Figure size 288x288 with 1 Axes>"
      ]
     },
     "metadata": {
      "needs_background": "light"
     },
     "output_type": "display_data"
    }
   ],
   "source": [
    "#数据可视化\n",
    "from sklearn.datasets import load_digits\n",
    "import pylab as pl\n",
    "\n",
    "#载入数据集\n",
    "digits = load_digits()\n",
    "print(digits.data.shape)\n",
    "\n",
    "#灰度化图片\n",
    "pl.gray()\n",
    "pl.matshow(digits.images[0])\n",
    "pl.show()"
   ]
  },
  {
   "cell_type": "code",
   "execution_count": null,
   "id": "3f8fa8a8",
   "metadata": {},
   "outputs": [],
   "source": []
  }
 ],
 "metadata": {
  "kernelspec": {
   "display_name": "Python 3",
   "language": "python",
   "name": "python3"
  },
  "language_info": {
   "codemirror_mode": {
    "name": "ipython",
    "version": 3
   },
   "file_extension": ".py",
   "mimetype": "text/x-python",
   "name": "python",
   "nbconvert_exporter": "python",
   "pygments_lexer": "ipython3",
   "version": "3.7.10"
  }
 },
 "nbformat": 4,
 "nbformat_minor": 5
}
